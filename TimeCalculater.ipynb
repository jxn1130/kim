{
 "cells": [
  {
   "cell_type": "code",
   "execution_count": 6,
   "id": "33a9cd43",
   "metadata": {},
   "outputs": [
    {
     "name": "stdout",
     "output_type": "stream",
     "text": [
      "현재시각: 15:47:35\n",
      "총 남은 시간: 2:02:25\n"
     ]
    }
   ],
   "source": [
    "from datetime import datetime\n",
    "\n",
    "# 시간을 나타내는 datetime 객체 생성\n",
    "now_time = datetime.now()\n",
    "mor_time = datetime.now().replace(hour=11, minute=50, second=0)\n",
    "lun_time = datetime.now().replace(hour=13, minute=0, second=0)\n",
    "end_time = datetime.now().replace(hour=17, minute=50, second=0)\n",
    "\n",
    "\n",
    "# 두 시간 사이의 차이 계산\n",
    "go_lunch = mor_time - now_time\n",
    "after_lunch = end_time-lun_time\n",
    "go_end = end_time-now_time\n",
    "\n",
    "\n",
    "#1시 안지났으면 1시부터, 지났으면 현재시간부터 남은 시간\n",
    "if go_lunch.total_seconds() >0 :\n",
    "    print(\"현재시각:\",now_time.strftime(\"%H:%M:%S\"))\n",
    "    print(\"점심까지 남은 시간:\",go_lunch)\n",
    "    print(\"점심시간 제외 남은 시간:\",go_lunch+after_lunch)\n",
    "\n",
    "else:\n",
    "    print(\"현재시각:\",now_time.strftime(\"%H:%M:%S\"))\n",
    "    print(\"총 남은 시간:\", go_end)"
   ]
  },
  {
   "cell_type": "code",
   "execution_count": null,
   "id": "8f51d6b1",
   "metadata": {},
   "outputs": [],
   "source": []
  }
 ],
 "metadata": {
  "kernelspec": {
   "display_name": "Python 3 (ipykernel)",
   "language": "python",
   "name": "python3"
  },
  "language_info": {
   "codemirror_mode": {
    "name": "ipython",
    "version": 3
   },
   "file_extension": ".py",
   "mimetype": "text/x-python",
   "name": "python",
   "nbconvert_exporter": "python",
   "pygments_lexer": "ipython3",
   "version": "3.11.5"
  }
 },
 "nbformat": 4,
 "nbformat_minor": 5
}
