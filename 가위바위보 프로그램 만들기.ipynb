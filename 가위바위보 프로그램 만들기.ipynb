{
 "cells": [
  {
   "cell_type": "markdown",
   "id": "40beed62",
   "metadata": {},
   "source": [
    "## 가위바위보 프로그램 만들기\n",
    "\n",
    "* input : 가위 바위 보\n",
    "* output : 승, 패 , 무승부\n",
    "* 컴퓨터와 대전\n",
    "* 컴퓨터는 매번 랜덤하게 자신의 수를 선택"
   ]
  },
  {
   "cell_type": "code",
   "execution_count": 31,
   "id": "d78f8771",
   "metadata": {},
   "outputs": [
    {
     "name": "stdout",
     "output_type": "stream",
     "text": [
      "가위, 바위, 보 중에서 선택하세요: 가위\n",
      "컴퓨터의 선택: 가위\n",
      "게임 결과: 무승부\n"
     ]
    }
   ],
   "source": [
    "import random\n",
    "\n",
    "def computer():\n",
    "    choices = ['가위', '바위', '보']\n",
    "    computer_choice = random.choice(choices)\n",
    "    return computer_choice\n",
    "\n",
    "def input_user_choice():\n",
    "    while True:\n",
    "        user = input(\"가위, 바위, 보 중에서 선택하세요: \")\n",
    "        if user in ['가위', '바위', '보']:\n",
    "            return user\n",
    "        else:\n",
    "            print(\"잘못된 입력입니다. 다시 입력해주세요.\")\n",
    "\n",
    "def 결과_판정(com, user):\n",
    "    if com == user:\n",
    "        return \"무승부\"\n",
    "    elif (com == '가위' and user == '보') or (com == '바위' and user == '가위') or (com == '보' and user == '바위'):\n",
    "        return \"컴퓨터 승리\"\n",
    "    else:\n",
    "        return \"사용자 승리\"\n",
    "\n",
    "# 게임 진행\n",
    "com_choice = computer()\n",
    "user_choice = input_user_choice()\n",
    "\n",
    "print(f\"컴퓨터의 선택: {com_choice}\")\n",
    "\n",
    "결과 = 결과_판정(com_choice, user_choice)\n",
    "print(f\"게임 결과: {결과}\")\n"
   ]
  },
  {
   "cell_type": "code",
   "execution_count": null,
   "id": "14fd4f27",
   "metadata": {},
   "outputs": [],
   "source": []
  }
 ],
 "metadata": {
  "kernelspec": {
   "display_name": "Python 3 (ipykernel)",
   "language": "python",
   "name": "python3"
  },
  "language_info": {
   "codemirror_mode": {
    "name": "ipython",
    "version": 3
   },
   "file_extension": ".py",
   "mimetype": "text/x-python",
   "name": "python",
   "nbconvert_exporter": "python",
   "pygments_lexer": "ipython3",
   "version": "3.11.5"
  }
 },
 "nbformat": 4,
 "nbformat_minor": 5
}
