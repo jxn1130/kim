{
 "cells": [
  {
   "cell_type": "code",
   "execution_count": 1,
   "id": "421b4345",
   "metadata": {},
   "outputs": [
    {
     "name": "stdout",
     "output_type": "stream",
     "text": [
      "가위, 바위, 보 중에서 선택하세요: 가위\n",
      "컴퓨터의 선택: 가위\n",
      "게임 결과: 무승부\n",
      "다시 하시겠습니까? (y/n): y\n",
      "가위, 바위, 보 중에서 선택하세요: 보\n",
      "컴퓨터의 선택: 바위\n",
      "게임 결과: 사용자 승리\n",
      "다시 하시겠습니까? (y/n): n\n"
     ]
    }
   ],
   "source": [
    "import random\n",
    "\n",
    "#컴퓨터가 랜덤하게 가위, 바위, 보 중에 선택 추출하도록\n",
    "def computer():\n",
    "    choices = ['가위', '바위', '보']\n",
    "    computer_choice = random.choice(choices)\n",
    "    return computer_choice\n",
    "\n",
    "#user 입력받기\n",
    "def input_user_choice():\n",
    "    while True:\n",
    "        user = input(\"가위, 바위, 보 중에서 선택하세요: \")\n",
    "        if user in ['가위', '바위', '보']:\n",
    "            return user\n",
    "        else: #가위, 바위, 보가 아닌 다른 문자 입력시\n",
    "            print(\"잘못된 입력입니다. 다시 입력해주세요.\")\n",
    "\n",
    "def 결과_판정(com, user):\n",
    "    if com == user:\n",
    "        return \"무승부\"\n",
    "    elif (com == '가위' and user == '보') or (com == '바위' and user == '가위') or (com == '보' and user == '바위'):\n",
    "        return \"컴퓨터 승리\"\n",
    "    else:\n",
    "        return \"사용자 승리\"\n",
    "\n",
    "#결과 출력\n",
    "while True:\n",
    "    com_choice = computer()\n",
    "    user_choice = input_user_choice()\n",
    "\n",
    "    print(f\"컴퓨터의 선택: {com_choice}\")\n",
    "\n",
    "    결과 = 결과_판정(com_choice, user_choice)\n",
    "    print(f\"게임 결과: {결과}\")\n",
    "    \n",
    "    #다시 플레이할지 선택 (y입력받으면 반복, n입력받으면 멈추기)\n",
    "    play_again = input(\"다시 하시겠습니까? (y/n): \")\n",
    "    \n",
    "    #대소문자 관계없이 처리되도록 lower()사용\n",
    "    if play_again.lower() != 'y':\n",
    "        break\n"
   ]
  },
  {
   "cell_type": "code",
   "execution_count": null,
   "id": "5be0b7e7",
   "metadata": {},
   "outputs": [],
   "source": []
  }
 ],
 "metadata": {
  "kernelspec": {
   "display_name": "Python 3 (ipykernel)",
   "language": "python",
   "name": "python3"
  },
  "language_info": {
   "codemirror_mode": {
    "name": "ipython",
    "version": 3
   },
   "file_extension": ".py",
   "mimetype": "text/x-python",
   "name": "python",
   "nbconvert_exporter": "python",
   "pygments_lexer": "ipython3",
   "version": "3.11.5"
  }
 },
 "nbformat": 4,
 "nbformat_minor": 5
}
