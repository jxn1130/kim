{
 "cells": [
  {
   "cell_type": "code",
   "execution_count": null,
   "id": "942cea14",
   "metadata": {},
   "outputs": [
    {
     "name": "stderr",
     "output_type": "stream",
     "text": [
      "[nltk_data] Downloading package punkt to\n",
      "[nltk_data]     C:\\Users\\user\\AppData\\Roaming\\nltk_data...\n",
      "[nltk_data]   Unzipping tokenizers\\punkt.zip.\n"
     ]
    },
    {
     "name": "stdout",
     "output_type": "stream",
     "text": [
      "챗봇을 시작합니다. 종료하려면 '그만둘래' 또는 '나가고 싶어'를 입력하세요.\n",
      ">안녕\n",
      "안녕하세요. 반가워요!\n",
      ">안녕입니다\n",
      "안녕하세요. 반가워요!\n",
      ">오잉\n",
      "None\n",
      ">오늘따라 마음이 별로야\n",
      "그렇게 우울하시다니 안좋아요. 저에게 털어놓아도 괜찮아요.\n"
     ]
    }
   ],
   "source": [
    "import nltk\n",
    "from nltk.chat.util import Chat, reflections\n",
    "\n",
    "# 간단한 대화 패턴을 정의합니다.\n",
    "pairs = [\n",
    "    [\n",
    "        r\"안녕|안뇽|안뇽하세|안녕하세요\",\n",
    "        [\"안녕하세요!\", \"안녕하세요. 반가워요!\"]\n",
    "    ],\n",
    "    [\n",
    "        r\"잘 지냈어요?\",\n",
    "        [\"네, 잘 지냈어요. 당신은요?\", \"그럭저럭 괜찮아요. 고마워요!\"]\n",
    "    ],\n",
    "    [\n",
    "        r\"이름이 뭐에요?\",\n",
    "        [\"저는 ChatBot이라고 해요.\",]\n",
    "    ],\n",
    "    [\n",
    "        r\"(.*) 마음이 별로야|(.*) 우울해\",\n",
    "        [\"그렇게 우울하시다니 안좋아요. 저에게 털어놓아도 괜찮아요.\",]\n",
    "    ],\n",
    "    [\n",
    "        r\"좋아하는 음식은 뭐에요?\",\n",
    "        [\"저는 음식을 먹지 않아요. 하지만 피자는 인기가 많더라고요!\",]\n",
    "    ],\n",
    "    [\n",
    "        r\"그만둘래|나가고 싶어\",\n",
    "        [\"알겠어요. 안녕히 가세요!\"]\n",
    "    ],\n",
    "]\n",
    "\n",
    "# 챗봇을 만듭니다.\n",
    "def chatbot():\n",
    "    print(\"챗봇을 시작합니다. 종료하려면 '그만둘래' 또는 '나가고 싶어'를 입력하세요.\")\n",
    "    chat = Chat(pairs, reflections)\n",
    "    chat.converse()\n",
    "\n",
    "# 챗봇 실행\n",
    "if __name__ == \"__main__\":\n",
    "    nltk.download('punkt')\n",
    "    chatbot()\n"
   ]
  },
  {
   "cell_type": "code",
   "execution_count": null,
   "id": "a7b02f94",
   "metadata": {},
   "outputs": [],
   "source": []
  }
 ],
 "metadata": {
  "kernelspec": {
   "display_name": "Python 3 (ipykernel)",
   "language": "python",
   "name": "python3"
  },
  "language_info": {
   "codemirror_mode": {
    "name": "ipython",
    "version": 3
   },
   "file_extension": ".py",
   "mimetype": "text/x-python",
   "name": "python",
   "nbconvert_exporter": "python",
   "pygments_lexer": "ipython3",
   "version": "3.11.5"
  }
 },
 "nbformat": 4,
 "nbformat_minor": 5
}
