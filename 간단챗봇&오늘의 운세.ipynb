{
 "cells": [
  {
   "cell_type": "code",
   "execution_count": 5,
   "id": "4b048689",
   "metadata": {},
   "outputs": [
    {
     "name": "stderr",
     "output_type": "stream",
     "text": [
      "[nltk_data] Downloading package punkt to\n",
      "[nltk_data]     C:\\Users\\user\\AppData\\Roaming\\nltk_data...\n",
      "[nltk_data]   Package punkt is already up-to-date!\n"
     ]
    },
    {
     "name": "stdout",
     "output_type": "stream",
     "text": [
      "챗봇을 시작합니다. 종료하려면 '그만둘래' 또는 '나가고 싶어'를 입력하세요.\n",
      "사용자: 안녕\n",
      "챗봇: 안녕하세요!\n",
      "사용자: 그만둘래\n",
      "챗봇: 알겠어요. 안녕히 가세요!\n"
     ]
    }
   ],
   "source": [
    "import nltk\n",
    "from nltk.chat.util import Chat, reflections\n",
    "\n",
    "# 간단한 대화 패턴을 정의합니다.\n",
    "pairs = [\n",
    "    [\n",
    "        r\"안녕|안뇽|안뇽하세|안녕하세요\",\n",
    "        [\"안녕하세요!\", \"안녕하세요. 반가워요!\"]\n",
    "    ],\n",
    "    [\n",
    "        r\"잘 지냈어요?\",\n",
    "        [\"네, 잘 지냈어요. 당신은요?\", \"그럭저럭 괜찮아요. 고마워요!\"]\n",
    "    ],\n",
    "    [\n",
    "        r\"이름이 뭐에요?\",\n",
    "        [\"저는 ChatBot이라고 해요.\",]\n",
    "    ],\n",
    "    [\n",
    "        r\"(.*) 마음이 별로야|(.*) 우울해\",\n",
    "        [\"그렇게 우울하시다니 안좋아요. 저에게 털어놓아도 괜찮아요.\",]\n",
    "    ],\n",
    "    [\n",
    "        r\"좋아하는 음식은 뭐에요?\",\n",
    "        [\"저는 음식을 먹지 않아요. 하지만 피자는 인기가 많더라고요!\",]\n",
    "    ],\n",
    "    [\n",
    "        r\"그만둘래|나가고 싶어\",\n",
    "        [\"알겠어요. 안녕히 가세요!\"]\n",
    "    ],\n",
    "]\n",
    "\n",
    "# 챗봇을 만듭니다.\n",
    "def chatbot():\n",
    "    print(\"챗봇을 시작합니다. 종료하려면 '그만둘래' 또는 '나가고 싶어'를 입력하세요.\")\n",
    "    chat = Chat(pairs, reflections)\n",
    "    while True:\n",
    "        user_input = input(\"사용자: \")\n",
    "        response = chat.respond(user_input)\n",
    "        print(\"챗봇:\", response)\n",
    "        if user_input in [\"그만둘래\", \"나가고 싶어\"]:\n",
    "            break\n",
    "\n",
    "# 챗봇 실행\n",
    "if __name__ == \"__main__\":\n",
    "    nltk.download('punkt')\n",
    "    chatbot()\n"
   ]
  },
  {
   "cell_type": "code",
   "execution_count": null,
   "id": "c37016f7",
   "metadata": {},
   "outputs": [
    {
     "name": "stdout",
     "output_type": "stream",
     "text": [
      "생년월일을 입력하세요 (예: 1990년 1월 1일): 1998 1 1\n"
     ]
    }
   ],
   "source": [
    "import random\n",
    "\n",
    "def get_fortune(birthdate, gender):\n",
    "    # 여러 운세 중 랜덤으로 선택\n",
    "    fortunes = [\n",
    "        \"오늘은 행운이 가득한 날이 될 거예요!\",\n",
    "        \"조심스럽게 움직이면 좋은 결과를 얻을 수 있을 거예요.\",\n",
    "        \"오늘은 조금 긴장될 수도 있지만, 결국 모든 일이 잘 해결될 거예요.\",\n",
    "        \"긍정적인 마음을 가지고 하루를 시작하면 뜻밖의 기회가 찾아올 거예요.\"\n",
    "    ]\n",
    "    \n",
    "    # 랜덤하게 운세 선택\n",
    "    fortune = random.choice(fortunes)\n",
    "    \n",
    "    return fortune\n",
    "\n",
    "def get_lucky_color():\n",
    "    # 행운의 색상 랜덤 선택\n",
    "    colors = [\"빨강\", \"주황\", \"노랑\", \"초록\", \"파랑\", \"보라\"]\n",
    "    lucky_color = random.choice(colors)\n",
    "    \n",
    "    return lucky_color\n",
    "\n",
    "def get_lucky_item():\n",
    "    # 행운의 아이템 랜덤 선택\n",
    "    items = [\"행운의 펜던트\", \"행운의 반지\", \"행운의 스카프\", \"행운의 키링\", \"행운의 귀걸이\", \"행운의 팔찌\"]\n",
    "    lucky_item = random.choice(items)\n",
    "    \n",
    "    return lucky_item\n",
    "\n",
    "def main():\n",
    "    # 사용자로부터 생년월일과 성별 입력 받기\n",
    "    birthdate = input(\"생년월일을 입력하세요 (예: 1990년 1월 1일): \")\n",
    "    gender = input(\"성별을 입력하세요 (남성 또는 여성): \")\n",
    "\n",
    "    # 오늘의 운세, 행운의 색상, 행운의 아이템 가져오기\n",
    "    fortune = get_fortune(birthdate, gender)\n",
    "    lucky_color = get_lucky_color()\n",
    "    lucky_item = get_lucky_item()\n",
    "\n",
    "    # 결과 출력\n",
    "    print(\"오늘의 운세는 다음과 같아요:\")\n",
    "    print(fortune)\n",
    "    print(\"행운의 색상은 {}이고, 행운의 아이템은 {}입니다.\".format(lucky_color, lucky_item))\n",
    "\n",
    "if __name__ == \"__main__\":\n",
    "    main()\n"
   ]
  },
  {
   "cell_type": "code",
   "execution_count": null,
   "id": "7a95486a",
   "metadata": {},
   "outputs": [],
   "source": []
  }
 ],
 "metadata": {
  "kernelspec": {
   "display_name": "Python 3 (ipykernel)",
   "language": "python",
   "name": "python3"
  },
  "language_info": {
   "codemirror_mode": {
    "name": "ipython",
    "version": 3
   },
   "file_extension": ".py",
   "mimetype": "text/x-python",
   "name": "python",
   "nbconvert_exporter": "python",
   "pygments_lexer": "ipython3",
   "version": "3.11.5"
  }
 },
 "nbformat": 4,
 "nbformat_minor": 5
}
