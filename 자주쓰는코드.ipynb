{
 "cells": [
  {
   "cell_type": "raw",
   "id": "bc65a56f",
   "metadata": {},
   "source": [
    "import pandas as pd\n",
    "import seaborn as sns\n",
    "import matplotlib.pyplot as plt\n",
    "import numpy as np\n",
    "\n",
    "#글꼴 불러오기\n",
    "plt.rc('font', family='Malgun Gothic') \n",
    "\n",
    "#파일 불러오기\n",
    "df = pd.read_csv('', encoding='cp949')"
   ]
  },
  {
   "cell_type": "raw",
   "id": "578f9b7f",
   "metadata": {},
   "source": [
    "연도별로 묶어서 금액 합계 구하기\n",
    "이름짓기 = df.groupby('year').sum()\n",
    "\n",
    "높은 순으로 보기\n",
    "이름짓기.sort_values(['주문수량','판매금액'], ascending=False)"
   ]
  },
  {
   "cell_type": "markdown",
   "id": "24f2e826",
   "metadata": {},
   "source": [
    "## 그래프 꾸미기"
   ]
  },
  {
   "cell_type": "raw",
   "id": "8b87955f",
   "metadata": {},
   "source": [
    "#축 제목 설정\n",
    "plt.xlabel('연도')\n",
    "plt.ylabel('금액')\n",
    "\n",
    "#그래프 제목 설정\n",
    "plt.title('연도별 매각금액 추이')\n",
    "\n",
    "#보여주기\n",
    "plt.show()"
   ]
  },
  {
   "cell_type": "code",
   "execution_count": null,
   "id": "6e585114",
   "metadata": {},
   "outputs": [],
   "source": []
  }
 ],
 "metadata": {
  "kernelspec": {
   "display_name": "Python 3 (ipykernel)",
   "language": "python",
   "name": "python3"
  },
  "language_info": {
   "codemirror_mode": {
    "name": "ipython",
    "version": 3
   },
   "file_extension": ".py",
   "mimetype": "text/x-python",
   "name": "python",
   "nbconvert_exporter": "python",
   "pygments_lexer": "ipython3",
   "version": "3.11.5"
  }
 },
 "nbformat": 4,
 "nbformat_minor": 5
}
