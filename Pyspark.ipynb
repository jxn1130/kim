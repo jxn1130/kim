{
  "cells": [
    {
      "cell_type": "markdown",
      "metadata": {
        "id": "view-in-github",
        "colab_type": "text"
      },
      "source": [
        "<a href=\"https://colab.research.google.com/github/jxn1130/kim/blob/main/Pyspark.ipynb\" target=\"_parent\"><img src=\"https://colab.research.google.com/assets/colab-badge.svg\" alt=\"Open In Colab\"/></a>"
      ]
    },
    {
      "cell_type": "markdown",
      "metadata": {
        "id": "zm-4zhb-HDcP"
      },
      "source": [
        "## Dataset은 아래 다섯개 활용합니다.\n",
        "#(dataset/data-02/ 폴더 아래에 있는 데이터 활용)\n",
        "    - member.csv\n",
        "    - point_his.csv\n",
        "    - item_his.csv\n",
        "    - study_his.csv\n",
        "    - regdate_his.csv"
      ]
    },
    {
      "cell_type": "code",
      "execution_count": 1,
      "metadata": {
        "colab": {
          "base_uri": "https://localhost:8080/"
        },
        "id": "tiyjM2FkBqM1",
        "outputId": "5f67e934-e501-43b2-b636-0477dcf7debd"
      },
      "outputs": [
        {
          "output_type": "stream",
          "name": "stdout",
          "text": [
            "Requirement already satisfied: pyspark in /usr/local/lib/python3.10/dist-packages (3.5.1)\n",
            "Requirement already satisfied: py4j==0.10.9.7 in /usr/local/lib/python3.10/dist-packages (from pyspark) (0.10.9.7)\n"
          ]
        }
      ],
      "source": [
        "!pip3 install pyspark"
      ]
    },
    {
      "cell_type": "code",
      "execution_count": 2,
      "metadata": {
        "id": "0ilRoVgeBqM2"
      },
      "outputs": [],
      "source": [
        "from pyspark.sql import SparkSession, Row\n",
        "from pyspark.sql import types as T\n",
        "from pyspark.sql import window as W\n",
        "from pyspark.sql import functions as F\n",
        "\n",
        "spark = SparkSession.builder \\\n",
        "        .master(\"local\") \\\n",
        "        .appName(\"Colab\") \\\n",
        "        .getOrCreate()\n",
        "\n",
        "#데이터 읽기\n",
        "member = spark.read.csv(\"/content/member.csv\", header=True)\n",
        "point = spark.read.csv(\"/content/point_his.csv\", header=True)\n",
        "item = spark.read.csv(\"/content/item_his.csv\", header=True)\n",
        "study = spark.read.csv(\"/content/study_his.csv\", header=True)\n",
        "regdate = spark.read.csv(\"/content/regdate_his.csv\", header=True)"
      ]
    },
    {
      "cell_type": "markdown",
      "source": [
        "1. member 테이블에서 idx가 8000과 9000 사이인 row를 찾아주세요.(양 끝값 포함) (6)"
      ],
      "metadata": {
        "id": "8kqomxpQaM5R"
      }
    },
    {
      "cell_type": "code",
      "source": [
        "#8000에서 9000사이 필터\n",
        "member.filter(F.col('idx').between(8000,9000)).show()"
      ],
      "metadata": {
        "colab": {
          "base_uri": "https://localhost:8080/"
        },
        "id": "gVX_MOE0bgEL",
        "outputId": "6f2c0039-e3cb-4e7e-d7c3-7a432384c36f"
      },
      "execution_count": 3,
      "outputs": [
        {
          "output_type": "stream",
          "name": "stdout",
          "text": [
            "+----+---+--------+-------+\n",
            "| idx|sex|  status|  grade|\n",
            "+----+---+--------+-------+\n",
            "|8647| 남|유료회원|초4학년|\n",
            "|8698| 남|유료회원|초2학년|\n",
            "|8222| 남|유료회원|초4학년|\n",
            "|8178| 남|유료회원|초1학년|\n",
            "|8678| 남|유료회원|초4학년|\n",
            "|8285| 여|유료회원|초4학년|\n",
            "|8354| 남|유료회원|초3학년|\n",
            "|8530| 여|유료회원|초3학년|\n",
            "|8709| 남|유료회원|초1학년|\n",
            "|8507| 남|유료회원|초2학년|\n",
            "|8573| 남|유료회원|초3학년|\n",
            "|8772| 남|유료회원|초3학년|\n",
            "|8559| 남|유료회원|초3학년|\n",
            "|8870| 여|유료회원|초5학년|\n",
            "|8919| 여|유료회원|초4학년|\n",
            "|8927| 여|유료회원|초3학년|\n",
            "|8904| 여|유료회원|초5학년|\n",
            "|8945| 여|유료회원|초6학년|\n",
            "|8381| 여|유료회원|초4학년|\n",
            "|8084| 여|유료회원|초6학년|\n",
            "+----+---+--------+-------+\n",
            "only showing top 20 rows\n",
            "\n"
          ]
        }
      ]
    },
    {
      "cell_type": "markdown",
      "source": [
        "2. member 테이블에서 회원 상태별 인원수를 내림차순으로 보여주세요. (6)\n",
        "\n"
      ],
      "metadata": {
        "id": "ccvdCKelaM3B"
      }
    },
    {
      "cell_type": "code",
      "source": [
        "#status 기준으로 groupby해서 count하고 내림차순 정렬\n",
        "member.groupby(F.col('status')).count().orderBy(F.col('count').desc()).show()"
      ],
      "metadata": {
        "colab": {
          "base_uri": "https://localhost:8080/"
        },
        "id": "DqQzy1h3a1a5",
        "outputId": "f8c874d1-d4ab-4e1a-fa0b-412f40a61bd2"
      },
      "execution_count": 4,
      "outputs": [
        {
          "output_type": "stream",
          "name": "stdout",
          "text": [
            "+--------+-----+\n",
            "|  status|count|\n",
            "+--------+-----+\n",
            "|유료회원|74198|\n",
            "|학습만료|  279|\n",
            "|  재구매|  273|\n",
            "|    신규|  195|\n",
            "|    이월|   39|\n",
            "|    복회|   11|\n",
            "|    취소|    9|\n",
            "|이관유료|    8|\n",
            "|    NULL|    1|\n",
            "+--------+-----+\n",
            "\n"
          ]
        }
      ]
    },
    {
      "cell_type": "markdown",
      "source": [
        "3. 학습만료 회원들이 공부한 과목 리스트를 TOP3를 뽑아주세요 (8)\n",
        "\n"
      ],
      "metadata": {
        "id": "iyGp0uobaMvh"
      }
    },
    {
      "cell_type": "code",
      "source": [
        "from pyspark.sql.functions import count, desc\n",
        "\n",
        "#study와 member를 idx기준으로 join\n",
        "member_study = study.join(member, ['idx'], \"inner\")\n",
        "\n",
        "#학습만료인 회원만 filter\n",
        "expiration = member_study.filter(member_study['status'] == '학습만료')\n",
        "\n",
        "# 'point nm' 별로 groupby해서 카운트 계산\n",
        "point_count = expiration.groupBy('pointnm').agg(count('*').alias('count'))\n",
        "\n",
        "#내림차순 정렬해서 상위 3개만 출력\n",
        "point_count.orderBy(desc(\"count\")).show(3)"
      ],
      "metadata": {
        "colab": {
          "base_uri": "https://localhost:8080/"
        },
        "id": "siCkV_6ED24y",
        "outputId": "8377fa3f-54a9-4ad5-8c7a-be83576e3451"
      },
      "execution_count": 5,
      "outputs": [
        {
          "output_type": "stream",
          "name": "stdout",
          "text": [
            "+--------------+-----+\n",
            "|       pointnm|count|\n",
            "+--------------+-----+\n",
            "|    중학 1학년|  115|\n",
            "|  AI서술형평가|   71|\n",
            "|AI 구구단 게임|   68|\n",
            "+--------------+-----+\n",
            "only showing top 3 rows\n",
            "\n"
          ]
        }
      ]
    },
    {
      "cell_type": "markdown",
      "source": [
        "4. 등록일이 2023.03.15일인 유료회원들이 가장 많이 착용한 아이템(codename) TOP3를 뽑아주세요 (8)\n",
        "\n"
      ],
      "metadata": {
        "id": "36y_wsHsaVlK"
      }
    },
    {
      "cell_type": "code",
      "source": [
        "#member와 item을 idx기준으로 join\n",
        "member_item = item.join(member, ['idx'], \"inner\")\n",
        "\n",
        "#regdate를 추가 join\n",
        "mir = member_item.join(regdate, ['idx'], \"inner\")\n",
        "\n",
        "#조건 필터\n",
        "paid_0315 = mir.filter((mir[\"regdate\"] == '20230315') & (F.col(\"status\") == \"유료회원\"))\n",
        "\n",
        "#codename별로 묶어서 count 내림차순하여 상위 3개 출력\n",
        "paid_0315.groupby('codename').count().orderBy(F.col('count').desc()).show(3)"
      ],
      "metadata": {
        "colab": {
          "base_uri": "https://localhost:8080/"
        },
        "id": "P95qiG2kenR6",
        "outputId": "f8cb6ebc-1b59-4fa1-a43f-374c0cf70e0e"
      },
      "execution_count": 6,
      "outputs": [
        {
          "output_type": "stream",
          "name": "stdout",
          "text": [
            "+--------+-----+\n",
            "|codename|count|\n",
            "+--------+-----+\n",
            "|    헤어|   31|\n",
            "|    얼굴|   19|\n",
            "|    신발|   15|\n",
            "+--------+-----+\n",
            "only showing top 3 rows\n",
            "\n"
          ]
        }
      ]
    },
    {
      "cell_type": "markdown",
      "source": [
        "5. 레벨이 151~160 에 있는 유저들 중 딱 한 명씩만 등록한 날짜들을 구해주세요 (10)"
      ],
      "metadata": {
        "id": "G5NSVCs8aMs6"
      }
    },
    {
      "cell_type": "code",
      "source": [
        "mir_151160 = mir.filter(mir[\"lv\"].between(151,160))\n",
        "\n",
        "#null값 drop\n",
        "mir_151160 = mir_151160.dropna(how=\"any\", subset=['regdate'])\n",
        "\n",
        "# regdate를 기준으로 count\n",
        "reg_count = mir_151160.groupby(F.col('regdate')).count()\n",
        "\n",
        "#count가 1인 날짜 출력\n",
        "reg_count.filter(F.col('count')==1).show()"
      ],
      "metadata": {
        "colab": {
          "base_uri": "https://localhost:8080/"
        },
        "id": "SQquCR3ta2aC",
        "outputId": "b4863770-1f55-464a-abce-1eafd3229e6e"
      },
      "execution_count": 7,
      "outputs": [
        {
          "output_type": "stream",
          "name": "stdout",
          "text": [
            "+--------+-----+\n",
            "| regdate|count|\n",
            "+--------+-----+\n",
            "|20230301|    1|\n",
            "|20230505|    1|\n",
            "|20230129|    1|\n",
            "|20230312|    1|\n",
            "|20230221|    1|\n",
            "|20230124|    1|\n",
            "|20230219|    1|\n",
            "|20230320|    1|\n",
            "|20230226|    1|\n",
            "|20230310|    1|\n",
            "|20230311|    1|\n",
            "|20230322|    1|\n",
            "+--------+-----+\n",
            "\n"
          ]
        }
      ]
    },
    {
      "cell_type": "markdown",
      "source": [
        "6. item_his 테이블에서 레벨이 null인 유저가 가장 많은 날짜를 구해주세요 (8)\n",
        "\n"
      ],
      "metadata": {
        "id": "iH99FZdkaYRh"
      }
    },
    {
      "cell_type": "code",
      "source": [
        "#Null값만 필터\n",
        "lv_null = item.filter(F.col('lv').isNull())\n",
        "\n",
        "#count해서 내림차순 정렬하고 1개만 출력\n",
        "lv_null.groupBy(F.col(\"proc_ymd\")).count().orderBy(F.col('count').desc()).show(1)"
      ],
      "metadata": {
        "colab": {
          "base_uri": "https://localhost:8080/"
        },
        "id": "vT_aytLHmgwR",
        "outputId": "4da564a0-45bd-42bd-caf0-5ba3bf38bd4f"
      },
      "execution_count": 8,
      "outputs": [
        {
          "output_type": "stream",
          "name": "stdout",
          "text": [
            "+--------+-----+\n",
            "|proc_ymd|count|\n",
            "+--------+-----+\n",
            "|20230504|   10|\n",
            "+--------+-----+\n",
            "only showing top 1 row\n",
            "\n"
          ]
        }
      ]
    },
    {
      "cell_type": "markdown",
      "source": [
        "7. study_his 테이블의 pointnm 컬럼에 대해 공백을 모두 없애주세요 (8)\n",
        "\n"
      ],
      "metadata": {
        "id": "ggXu-kxaafcp"
      }
    },
    {
      "cell_type": "code",
      "source": [
        "from pyspark.sql.functions import udf\n",
        "from pyspark.sql.types import StringType\n",
        "\n",
        "#변환 함수 작성\n",
        "def no_space(val):\n",
        "  return val.replace(\" \", \"\")\n",
        "\n",
        "#UDF에 등록\n",
        "no_space_udf = F.udf(no_space, StringType())\n",
        "\n",
        "# pointnm 열에 UDF 적용\n",
        "study_nospace = study.withColumn(\"pointnm\", no_space_udf(F.col(\"pointnm\")))\n",
        "\n",
        "# 결과 확인\n",
        "study_nospace.show()"
      ],
      "metadata": {
        "colab": {
          "base_uri": "https://localhost:8080/"
        },
        "id": "wjt50EqMmhAR",
        "outputId": "bec3ed02-a53e-4863-f5a5-d802ce1cc247"
      },
      "execution_count": 9,
      "outputs": [
        {
          "output_type": "stream",
          "name": "stdout",
          "text": [
            "+-----+-------+--------+----------+\n",
            "|  idx|proc_ym|proc_ymd|   pointnm|\n",
            "+-----+-------+--------+----------+\n",
            "|88311| 202306|20230628|한글스피치|\n",
            "| 8604| 202306|20230606| 중학3학년|\n",
            "| 8604| 202306|20230606| 중학3학년|\n",
            "| 8604| 202306|20230606| 중학3학년|\n",
            "| 8604| 202306|20230606| 중학3학년|\n",
            "| 8604| 202306|20230606| 중학3학년|\n",
            "| 8604| 202306|20230606| 중학3학년|\n",
            "| 8604| 202306|20230606| 중학3학년|\n",
            "| 8604| 202306|20230606| 중학3학년|\n",
            "| 8604| 202306|20230606| 중학3학년|\n",
            "| 8604| 202306|20230606| 중학3학년|\n",
            "| 8604| 202306|20230606| 중학3학년|\n",
            "| 8604| 202306|20230606| 중학3학년|\n",
            "| 8604| 202306|20230606| 중학3학년|\n",
            "|89542| 202305|20230509| 중학3학년|\n",
            "|23940| 202305|20230516| 중학1학년|\n",
            "|23940| 202305|20230516| 중학1학년|\n",
            "|40502| 202304|20230412| 중학1학년|\n",
            "| 1741| 202304|20230405| 중학1학년|\n",
            "|50161| 202304|20230428| 중학1학년|\n",
            "+-----+-------+--------+----------+\n",
            "only showing top 20 rows\n",
            "\n"
          ]
        }
      ]
    },
    {
      "cell_type": "markdown",
      "source": [
        "8. member 테이블의 grade 컬럼에서 숫자만 뽑아 grade라는 컬럼을 재구성해주세요. (초3학년 -> 3) (8)\n",
        "(UDF, slicing 사용 X)\n",
        "\n"
      ],
      "metadata": {
        "id": "xpoCmRukafUq"
      }
    },
    {
      "cell_type": "code",
      "source": [
        "from pyspark.sql import SparkSession\n",
        "from pyspark.sql.functions import regexp_extract\n",
        "\n",
        "#grade에서 숫자열 출력\n",
        "member.withColumn(\"grade\", regexp_extract(F.col(\"grade\"), r\"\\d\", 0)).show()"
      ],
      "metadata": {
        "colab": {
          "base_uri": "https://localhost:8080/"
        },
        "id": "voXcE6I-q_m4",
        "outputId": "e376c9f6-fa47-4586-e35b-f3eb73bef3bb"
      },
      "execution_count": 10,
      "outputs": [
        {
          "output_type": "stream",
          "name": "stdout",
          "text": [
            "+-----+---+--------+-----+\n",
            "|  idx|sex|  status|grade|\n",
            "+-----+---+--------+-----+\n",
            "| 6884| 여|유료회원|    3|\n",
            "| 6331| 남|유료회원|    3|\n",
            "|69294| 남|유료회원|    5|\n",
            "|31531| 여|유료회원|    1|\n",
            "|85784| 여|유료회원|    2|\n",
            "|58058| 여|유료회원|    3|\n",
            "|  777| 남|유료회원|    3|\n",
            "| 5482| 여|유료회원|    2|\n",
            "|63447| 남|유료회원|    2|\n",
            "|54957| 남|유료회원|    4|\n",
            "|55340| 남|유료회원|    2|\n",
            "|72887| 여|유료회원|    3|\n",
            "|40008| 여|유료회원|    3|\n",
            "|57551| 남|유료회원|    5|\n",
            "|58583| 여|유료회원|    3|\n",
            "|32219| 남|유료회원|    1|\n",
            "|13136| 여|유료회원|    4|\n",
            "|22122| 남|유료회원|    6|\n",
            "|18306| 남|유료회원|    4|\n",
            "|28057| 남|유료회원|    3|\n",
            "+-----+---+--------+-----+\n",
            "only showing top 20 rows\n",
            "\n"
          ]
        }
      ]
    },
    {
      "cell_type": "markdown",
      "source": [
        "9. study_his 월별로 pointnm 컬럼에 대한 point 발생 수(count)를 오름차순으로 순번 매겨주세요 (8)\n",
        "\n"
      ],
      "metadata": {
        "id": "d_6LDCCDaX-B"
      }
    },
    {
      "cell_type": "code",
      "source": [
        "#pointnm Null값 제거\n",
        "notnull_study = study.filter((F.col(\"pointnm\").isNotNull()) & (F.col(\"proc_ym\").isNotNull()))\n",
        "\n",
        "\n",
        "# 'point nm' 별로 카운트 계산\n",
        "point_count = notnull_study.groupBy('proc_ym', 'pointnm').agg(count('*').alias('count'))\n",
        "\n",
        "#window 변수 생성\n",
        "#월별로 나눠서 count 오름차순 정렬\n",
        "window_var = W.Window.partitionBy(F.col(\"proc_ym\")).orderBy(\"count\")\n",
        "\n",
        "#rank 부여\n",
        "point_count.withColumn(\"rank\", F.rank().over(window_var)).show()"
      ],
      "metadata": {
        "colab": {
          "base_uri": "https://localhost:8080/"
        },
        "id": "OXWyP6OpJtGR",
        "outputId": "3c7739e9-df77-4f36-f02f-134d7f416f0b"
      },
      "execution_count": 11,
      "outputs": [
        {
          "output_type": "stream",
          "name": "stdout",
          "text": [
            "+-------+-----------------+-----+----+\n",
            "|proc_ym|          pointnm|count|rank|\n",
            "+-------+-----------------+-----+----+\n",
            "| 202304|        중학 특강|   37|   1|\n",
            "| 202304|        학교 체험|   39|   2|\n",
            "| 202304| 학교 공부 맛보기|   48|   3|\n",
            "| 202304|         받아쓰기|   56|   4|\n",
            "| 202304|       중학 3학년|  135|   5|\n",
            "| 202304|       중학 2학년|  203|   6|\n",
            "| 202304|          AI 국어|  211|   7|\n",
            "| 202304|          AI 영어|  278|   8|\n",
            "| 202304| 밀크T 지오그래픽|  307|   9|\n",
            "| 202304|      중학 신입생|  449|  10|\n",
            "| 202304|      한글 스피치|  478|  11|\n",
            "| 202304|     자기소개하기|  738|  12|\n",
            "| 202304|       중학 1학년| 1801|  13|\n",
            "| 202304|        일기 쓰기| 2247|  14|\n",
            "| 202304|도전! AI 받아쓰기| 2806|  15|\n",
            "| 202304|   AI 구구단 게임| 6249|  16|\n",
            "| 202304|     AI서술형평가|17062|  17|\n",
            "| 202305|        학교 체험|    7|   1|\n",
            "| 202305|         받아쓰기|   33|   2|\n",
            "| 202305|        중학 특강|   37|   3|\n",
            "+-------+-----------------+-----+----+\n",
            "only showing top 20 rows\n",
            "\n"
          ]
        }
      ]
    },
    {
      "cell_type": "markdown",
      "source": [
        "10. pointnm 별로 획득한 point의 종류를 언더바(_)로 이어서 보여주세요 (10)\n",
        "\n"
      ],
      "metadata": {
        "id": "K40Au7eKaiMa"
      }
    },
    {
      "cell_type": "code",
      "source": [
        "from pyspark.sql.functions import concat, lit\n",
        "\n",
        "#point와 study를 idx, proc_ymd 기준으로 join\n",
        "pointstudy = point.join(study, ['idx', 'proc_ymd'])\n",
        "\n",
        "#pointnm과 point 사이에 _ 추가한 값을 새로운 열로 추가\n",
        "pointstudy = pointstudy.withColumn('new_point', concat(F.col('pointnm'), lit('_'), F.col('point')))\n",
        "\n",
        "\n",
        "# 결과를 출력합니다.\n",
        "pointstudy.show()"
      ],
      "metadata": {
        "id": "r-_xrbOVrAoQ",
        "colab": {
          "base_uri": "https://localhost:8080/"
        },
        "outputId": "fc5da0ec-de65-4fa9-9ef3-9ebde5593e6f"
      },
      "execution_count": 12,
      "outputs": [
        {
          "output_type": "stream",
          "name": "stdout",
          "text": [
            "+-----+--------+-------+-----+-------+--------------+-------------------+\n",
            "|  idx|proc_ymd|proc_ym|point|proc_ym|       pointnm|          new_point|\n",
            "+-----+--------+-------+-----+-------+--------------+-------------------+\n",
            "|96826|20230628| 202306| 2500| 202306|AI 구구단 게임|AI 구구단 게임_2500|\n",
            "|96826|20230628| 202306| 2500| 202306|AI 구구단 게임|AI 구구단 게임_2500|\n",
            "|96826|20230628| 202306| 2500| 202306|AI 구구단 게임|AI 구구단 게임_2500|\n",
            "|96826|20230628| 202306| 2500| 202306|AI 구구단 게임|AI 구구단 게임_2500|\n",
            "|96826|20230628| 202306| 2500| 202306|AI 구구단 게임|AI 구구단 게임_2500|\n",
            "|96826|20230628| 202306| 2500| 202306|AI 구구단 게임|AI 구구단 게임_2500|\n",
            "|96826|20230628| 202306| 2500| 202306|AI 구구단 게임|AI 구구단 게임_2500|\n",
            "|96826|20230628| 202306| 2500| 202306|AI 구구단 게임|AI 구구단 게임_2500|\n",
            "|96826|20230628| 202306| 2500| 202306|AI 구구단 게임|AI 구구단 게임_2500|\n",
            "|96826|20230628| 202306| 2500| 202306|AI 구구단 게임|AI 구구단 게임_2500|\n",
            "|96826|20230628| 202306| 2500| 202306|AI 구구단 게임|AI 구구단 게임_2500|\n",
            "|96826|20230628| 202306| 2500| 202306|AI 구구단 게임|AI 구구단 게임_2500|\n",
            "|96826|20230628| 202306| 2500| 202306|AI 구구단 게임|AI 구구단 게임_2500|\n",
            "|96826|20230628| 202306| 2500| 202306|AI 구구단 게임|AI 구구단 게임_2500|\n",
            "|96826|20230628| 202306| 2500| 202306|AI 구구단 게임|AI 구구단 게임_2500|\n",
            "|96826|20230628| 202306| 2500| 202306|AI 구구단 게임|AI 구구단 게임_2500|\n",
            "|96826|20230628| 202306| 2500| 202306|AI 구구단 게임|AI 구구단 게임_2500|\n",
            "|96826|20230628| 202306| 2500| 202306|AI 구구단 게임|AI 구구단 게임_2500|\n",
            "|96826|20230628| 202306| 2500| 202306|AI 구구단 게임|AI 구구단 게임_2500|\n",
            "|96826|20230628| 202306| 2500| 202306|AI 구구단 게임|AI 구구단 게임_2500|\n",
            "+-----+--------+-------+-----+-------+--------------+-------------------+\n",
            "only showing top 20 rows\n",
            "\n"
          ]
        }
      ]
    },
    {
      "cell_type": "markdown",
      "source": [
        "11. point_his의 proc_ymd 컬럼의 날짜 표현 형식을 yyyy-mm-dd 형식이 되도록 바꿔주세요. (8)\n",
        "(UDF, slicing 사용 X)\n",
        "\n"
      ],
      "metadata": {
        "id": "OBzzfgYMaiFi"
      }
    },
    {
      "cell_type": "code",
      "source": [
        "from pyspark.sql.functions import to_date, date_format\n",
        "\n",
        "# 'proc_ymd' 컬럼을 DateType으로 변환하고 yyyy-mm-dd 형식으로 변환\n",
        "point.withColumn('proc_ymd', date_format(to_date('proc_ymd', 'yyyyMMdd'), 'yyyy-MM-dd')).show()"
      ],
      "metadata": {
        "id": "twsUmJMhrA_g",
        "colab": {
          "base_uri": "https://localhost:8080/"
        },
        "outputId": "edaae137-6369-4184-b868-883219d934a2"
      },
      "execution_count": 13,
      "outputs": [
        {
          "output_type": "stream",
          "name": "stdout",
          "text": [
            "+-----+-------+----------+-----+\n",
            "|  idx|proc_ym|  proc_ymd|point|\n",
            "+-----+-------+----------+-----+\n",
            "|96465| 202306|2023-06-24| 1000|\n",
            "|96465| 202306|2023-06-24|  500|\n",
            "|87940| 202304|2023-04-05| 2000|\n",
            "|87940| 202304|2023-04-05| 3500|\n",
            "|87940| 202304|2023-04-05| 4000|\n",
            "|87940| 202304|2023-04-05| 3000|\n",
            "|87940| 202304|2023-04-05| 2500|\n",
            "|88058| 202304|2023-04-05| 3000|\n",
            "|88058| 202304|2023-04-05| 1000|\n",
            "|88058| 202304|2023-04-05| 1500|\n",
            "|88058| 202304|2023-04-05| 2500|\n",
            "|88058| 202304|2023-04-05|  500|\n",
            "|88058| 202304|2023-04-05| 2000|\n",
            "|95844| 202306|2023-06-17| 1500|\n",
            "|95844| 202306|2023-06-17| 1000|\n",
            "|95050| 202306|2023-06-12| 3500|\n",
            "|95050| 202306|2023-06-12| 4000|\n",
            "|95050| 202306|2023-06-12| 4500|\n",
            "|92560| 202305|2023-05-11| 1000|\n",
            "|92560| 202305|2023-05-11|  500|\n",
            "+-----+-------+----------+-----+\n",
            "only showing top 20 rows\n",
            "\n"
          ]
        }
      ]
    },
    {
      "cell_type": "markdown",
      "source": [
        "12. member의 status 컬럼에서 '회원'단어가 있으면 띄어쓰기하고 없으면 띄어쓰기 후 회원 단어 추가해주세요 (유료회원 -> 유효 회원  /  신규 -> 신규 회원) (10)"
      ],
      "metadata": {
        "id": "sw2XLc-yamvp"
      }
    },
    {
      "cell_type": "code",
      "source": [
        "from pyspark.sql.functions import regexp_replace, concat, lit\n",
        "\n",
        "# status에서 '회원'을 삭제\n",
        "member = member.withColumn('status', regexp_replace(member['status'], '회원', ''))\n",
        "\n",
        "#status 모든 행에 ' 회원'을 추가\n",
        "member = member.withColumn('status', concat(member['status'], lit(' 회원')))\n",
        "\n",
        "# 결과를 출력합니다.\n",
        "member.show()\n"
      ],
      "metadata": {
        "colab": {
          "base_uri": "https://localhost:8080/"
        },
        "id": "XLcpX1uo1sG6",
        "outputId": "55a81a90-fe5d-4fa7-c880-63b80a04c90f"
      },
      "execution_count": 14,
      "outputs": [
        {
          "output_type": "stream",
          "name": "stdout",
          "text": [
            "+-----+---+---------+-------+\n",
            "|  idx|sex|   status|  grade|\n",
            "+-----+---+---------+-------+\n",
            "| 6884| 여|유료 회원|초3학년|\n",
            "| 6331| 남|유료 회원|초3학년|\n",
            "|69294| 남|유료 회원|초5학년|\n",
            "|31531| 여|유료 회원|초1학년|\n",
            "|85784| 여|유료 회원|초2학년|\n",
            "|58058| 여|유료 회원|초3학년|\n",
            "|  777| 남|유료 회원|초3학년|\n",
            "| 5482| 여|유료 회원|초2학년|\n",
            "|63447| 남|유료 회원|초2학년|\n",
            "|54957| 남|유료 회원|초4학년|\n",
            "|55340| 남|유료 회원|초2학년|\n",
            "|72887| 여|유료 회원|초3학년|\n",
            "|40008| 여|유료 회원|초3학년|\n",
            "|57551| 남|유료 회원|초5학년|\n",
            "|58583| 여|유료 회원|초3학년|\n",
            "|32219| 남|유료 회원|초1학년|\n",
            "|13136| 여|유료 회원|초4학년|\n",
            "|22122| 남|유료 회원|초6학년|\n",
            "|18306| 남|유료 회원|초4학년|\n",
            "|28057| 남|유료 회원|초3학년|\n",
            "+-----+---+---------+-------+\n",
            "only showing top 20 rows\n",
            "\n"
          ]
        }
      ]
    },
    {
      "cell_type": "code",
      "source": [],
      "metadata": {
        "id": "wEkBxlLtbLnF"
      },
      "execution_count": 14,
      "outputs": []
    }
  ],
  "metadata": {
    "colab": {
      "provenance": [],
      "include_colab_link": true
    },
    "kernelspec": {
      "display_name": "Python 3.9.7 ('base')",
      "language": "python",
      "name": "python3"
    },
    "language_info": {
      "codemirror_mode": {
        "name": "ipython",
        "version": 3
      },
      "file_extension": ".py",
      "mimetype": "text/x-python",
      "name": "python",
      "nbconvert_exporter": "python",
      "pygments_lexer": "ipython3",
      "version": "3.9.7"
    },
    "orig_nbformat": 4,
    "vscode": {
      "interpreter": {
        "hash": "6f5583cf1d9466b5c27e75c89cc6b383bed5736d6b16c51c8074d8690011a952"
      }
    }
  },
  "nbformat": 4,
  "nbformat_minor": 0
}